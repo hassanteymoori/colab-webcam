{
  "cells": [
    {
      "cell_type": "markdown",
      "source": [
        "#Google Colab Webcam\n",
        "\n",
        "---\n",
        "\n",
        "This notebook will go through the problem of working with a webcam on Google Colab. I'm going to show how to access the local machine's webcam to take the images or videos.\n",
        "\n",
        "Live streaming by the webcam is something we can find in machine learning problems such as face detection or object detection. But the implementation for the google Colab needs some complex javascript integration. "
      ],
      "metadata": {
        "id": "4owpF6LzJZw8"
      }
    },
    {
      "cell_type": "code",
      "execution_count": null,
      "metadata": {
        "id": "Fj9YcAnsT4B_"
      },
      "outputs": [],
      "source": [
        "# import dependencies\n",
        "from IPython.display import display, Javascript, Image\n",
        "from google.colab.output import eval_js\n",
        "from base64 import b64decode"
      ]
    },
    {
      "cell_type": "markdown",
      "metadata": {
        "id": "fRFoJo6QT94w"
      },
      "source": [
        "## Capture image\n",
        "\n",
        "In the following you can find the code needed to capture a photo from your local machine webcam."
      ]
    },
    {
      "cell_type": "code",
      "source": [
        "# Javascript code for capture a photo\n",
        "js_takePhoto = Javascript('''\n",
        "\n",
        "    async function takePhoto(quality = 1.0) {\n",
        "      const div = document.createElement('div');\n",
        "      const capture = document.createElement('button');\n",
        "      capture.textContent = 'Capture';\n",
        "      div.appendChild(capture);\n",
        "\n",
        "      const video = document.createElement('video');\n",
        "      video.style.display = 'block';\n",
        "\n",
        "      document.body.appendChild(div);\n",
        "      div.appendChild(video);\n",
        "      video.srcObject = await navigator.mediaDevices.getUserMedia({video: true});\n",
        "      await video.play();\n",
        "\n",
        "      // Resize the output to fit the video element.\n",
        "      google.colab.output.setIframeHeight(document.documentElement.scrollHeight, true);\n",
        "\n",
        "      // Wait for Capture to be clicked.\n",
        "      await new Promise((resolve) => capture.onclick = resolve);\n",
        "\n",
        "      const canvas = document.createElement('canvas');\n",
        "      canvas.width = video.videoWidth;\n",
        "      canvas.height = video.videoHeight;\n",
        "      canvas.getContext('2d').drawImage(video, 0, 0);\n",
        "      video.srcObject.getVideoTracks()[0].stop();\n",
        "      div.remove();\n",
        "      return canvas.toDataURL('image/jpeg', quality);\n",
        "    }\n",
        "    \n",
        "''')"
      ],
      "metadata": {
        "id": "loebrtVWQT2u"
      },
      "execution_count": null,
      "outputs": []
    },
    {
      "cell_type": "code",
      "source": [
        "def capture(name='photo.jpg', quality=1.0):\n",
        "  display(js_takePhoto)\n",
        "  data = eval_js('takePhoto({})'.format(quality))\n",
        "  binary = b64decode(data.split(',')[1])\n",
        "  with open(name, 'wb') as f:\n",
        "    f.write(binary)\n",
        "  return name"
      ],
      "metadata": {
        "id": "Pgk6aYKYNiCp"
      },
      "execution_count": null,
      "outputs": []
    },
    {
      "cell_type": "code",
      "source": [
        "try:\n",
        "  filename = capture()\n",
        "  print('Saved to {}'.format(filename))\n",
        "  \n",
        "  display(Image(filename))\n",
        "except Exception as err:\n",
        "  # Errors will be thrown if the user does not have a webcam or if they do not\n",
        "  # grant the page permission to access it.\n",
        "  print(str(err))"
      ],
      "metadata": {
        "id": "0PvCWipyNwYJ"
      },
      "execution_count": null,
      "outputs": []
    },
    {
      "cell_type": "markdown",
      "metadata": {
        "id": "I_xcqQZKYzAj"
      },
      "source": [
        "## Stream Video\n",
        "In the following you can find the code needed to stream a live video from your local machine webcam."
      ]
    },
    {
      "cell_type": "code",
      "source": [
        "# Javascript code for video stream\n",
        "js_video = Javascript('''\n",
        "\n",
        "    async function stream() {\n",
        "\n",
        "        const div = document.createElement('div');\n",
        "        const stop = document.createElement('button');\n",
        "        stop.textContent = 'Stop';\n",
        "        div.appendChild(stop);\n",
        "\n",
        "        const video = document.createElement('video');\n",
        "        video.style.display = 'block';\n",
        "\n",
        "        document.body.appendChild(div);\n",
        "        div.appendChild(video);\n",
        "        video.srcObject = await navigator.mediaDevices.getUserMedia({video: true});\n",
        "        await video.play();\n",
        "\n",
        "        google.colab.output.setIframeHeight(document.documentElement.scrollHeight, true);\n",
        "\n",
        "        await new Promise((resolve) => stop.onclick = resolve);\n",
        "        video.srcObject.getVideoTracks()[0].stop();\n",
        "        div.remove();\n",
        "    }  \n",
        "      \n",
        "''')"
      ],
      "metadata": {
        "id": "J3fG3u9HUnb0"
      },
      "execution_count": null,
      "outputs": []
    },
    {
      "cell_type": "code",
      "source": [
        "try:\n",
        "  display(js_video)\n",
        "  eval_js('stream()')\n",
        "\n",
        "except Exception as err:\n",
        "  # Errors will be thrown if the user does not have a webcam or if they do not\n",
        "  # grant the page permission to access it.\n",
        "  print(str(err))"
      ],
      "metadata": {
        "id": "MlL4TA2zgHru",
        "colab": {
          "base_uri": "https://localhost:8080/",
          "height": 17
        },
        "outputId": "92a44213-1c15-42c8-a005-1c23f2f03248"
      },
      "execution_count": null,
      "outputs": [
        {
          "output_type": "display_data",
          "data": {
            "application/javascript": [
              "\n",
              "\n",
              "    async function stream() {\n",
              "\n",
              "        const div = document.createElement('div');\n",
              "        const stop = document.createElement('button');\n",
              "        stop.textContent = 'Stop';\n",
              "        div.appendChild(stop);\n",
              "\n",
              "        const video = document.createElement('video');\n",
              "        video.style.display = 'block';\n",
              "\n",
              "        document.body.appendChild(div);\n",
              "        div.appendChild(video);\n",
              "        video.srcObject = await navigator.mediaDevices.getUserMedia({video: true});\n",
              "        await video.play();\n",
              "\n",
              "        google.colab.output.setIframeHeight(document.documentElement.scrollHeight, true);\n",
              "\n",
              "        await new Promise((resolve) => stop.onclick = resolve);\n",
              "        video.srcObject.getVideoTracks()[0].stop();\n",
              "        div.remove();\n",
              "    }  \n",
              "      \n"
            ],
            "text/plain": [
              "<IPython.core.display.Javascript object>"
            ]
          },
          "metadata": {}
        }
      ]
    },
    {
      "cell_type": "markdown",
      "source": [
        "## Record Video\n"
      ],
      "metadata": {
        "id": "ayfuihqojlym"
      }
    },
    {
      "cell_type": "code",
      "source": [
        "js=Javascript(\"\"\"\n",
        "    async function recordVideo() {\n",
        "        \n",
        "        const options = { mimeType: \"video/webm; codecs=vp9\" };\n",
        "        const div = document.createElement('div');\n",
        "        \n",
        "        const record = document.createElement('button');\n",
        "        record.textContent = \"Start Recording\";\n",
        "        record.style.padding= '10px'\n",
        "        record.style.margin= '10px'\n",
        "        record.style.background = \"#39b6bf\";\n",
        "        record.style.color = \"white\";\n",
        "        \n",
        "        div.appendChild(record);\n",
        "\n",
        "        const stop = document.createElement(\"button\");\n",
        "        stop.textContent = \"It's Recording... => To Stop the recording click again and wait for saving!\";\n",
        "        stop.style.padding= '10px'\n",
        "        stop.style.margin= '10px'\n",
        "        stop.style.background = \"#7b4694\";\n",
        "        stop.style.background = \"red\";\n",
        "        stop.style.color = \"white\";\n",
        "        \n",
        "        const video = document.createElement('video');\n",
        "        video.style.display = 'block';\n",
        "        video.srcObject = await navigator.mediaDevices.getUserMedia({audio:true, video: true});\n",
        "\n",
        "        let recorder = new MediaRecorder(video.srcObject, options);\n",
        "        document.body.appendChild(div);\n",
        "        div.appendChild(video);\n",
        "\n",
        "        video.muted = true;\n",
        "        await video.play();\n",
        "\n",
        "        google.colab.output.setIframeHeight(document.documentElement.scrollHeight, true);\n",
        "\n",
        "        await new Promise((resolve) => record.onclick = resolve);\n",
        "        recorder.start();\n",
        "        record.replaceWith(stop);\n",
        "\n",
        "        await new Promise((resolve) => stop.onclick = resolve);\n",
        "        recorder.stop();\n",
        "        let recorded_data = await new Promise((resolve) => recorder.ondataavailable = resolve);\n",
        "        \n",
        "        video.srcObject.getVideoTracks()[0].stop();\n",
        "        div.remove();\n",
        "\n",
        "        let binaryString = \"\";\n",
        "        let bytes = new Uint8Array(await recorded_data.data.arrayBuffer());\n",
        "        bytes.forEach((byte) => {\n",
        "            binaryString += String.fromCharCode(byte);\n",
        "        })\n",
        "\n",
        "        return btoa(binaryString);\n",
        "    }\n",
        "  \"\"\")\n",
        "try:\n",
        "    filename = 'recording.mkv'\n",
        "    display(js)\n",
        "    data=eval_js('recordVideo({})')\n",
        "    binary=b64decode(data)\n",
        "    with open(filename,\"wb\") as video_file:\n",
        "         video_file.write(binary)\n",
        "    print(f\"Finished recording video at:{filename}\")\n",
        "except Exception as err:\n",
        "    print(str(err))"
      ],
      "metadata": {
        "id": "e4ig8Ie6jf1G",
        "colab": {
          "base_uri": "https://localhost:8080/",
          "height": 34
        },
        "outputId": "7f95d8fe-b3bc-4f5e-89e8-ff470c931c99"
      },
      "execution_count": null,
      "outputs": [
        {
          "output_type": "display_data",
          "data": {
            "application/javascript": [
              "\n",
              "    async function recordVideo() {\n",
              "        \n",
              "        const options = { mimeType: \"video/webm; codecs=vp9\" };\n",
              "        const div = document.createElement('div');\n",
              "        \n",
              "        const record = document.createElement('button');\n",
              "        record.textContent = \"Start Recording\";\n",
              "        record.style.padding= '10px'\n",
              "        record.style.margin= '10px'\n",
              "        record.style.background = \"#39b6bf\";\n",
              "        record.style.color = \"white\";\n",
              "        \n",
              "        div.appendChild(record);\n",
              "\n",
              "        const stop = document.createElement(\"button\");\n",
              "        stop.textContent = \"It's Recording... => To Stop the recording click again and wait for saving!\";\n",
              "        stop.style.padding= '10px'\n",
              "        stop.style.margin= '10px'\n",
              "        stop.style.background = \"#7b4694\";\n",
              "        stop.style.background = \"red\";\n",
              "        stop.style.color = \"white\";\n",
              "        \n",
              "        const video = document.createElement('video');\n",
              "        video.style.display = 'block';\n",
              "        video.srcObject = await navigator.mediaDevices.getUserMedia({audio:true, video: true});\n",
              "\n",
              "        let recorder = new MediaRecorder(video.srcObject, options);\n",
              "        document.body.appendChild(div);\n",
              "        div.appendChild(video);\n",
              "\n",
              "        video.muted = true;\n",
              "        await video.play();\n",
              "\n",
              "        google.colab.output.setIframeHeight(document.documentElement.scrollHeight, true);\n",
              "\n",
              "        await new Promise((resolve) => record.onclick = resolve);\n",
              "        recorder.start();\n",
              "        record.replaceWith(stop);\n",
              "\n",
              "        await new Promise((resolve) => stop.onclick = resolve);\n",
              "        recorder.stop();\n",
              "        let recorded_data = await new Promise((resolve) => recorder.ondataavailable = resolve);\n",
              "        \n",
              "        video.srcObject.getVideoTracks()[0].stop();\n",
              "        div.remove();\n",
              "\n",
              "        let binaryString = \"\";\n",
              "        let bytes = new Uint8Array(await recorded_data.data.arrayBuffer());\n",
              "        bytes.forEach((byte) => {\n",
              "            binaryString += String.fromCharCode(byte);\n",
              "        })\n",
              "\n",
              "        return btoa(binaryString);\n",
              "    }\n",
              "  "
            ],
            "text/plain": [
              "<IPython.core.display.Javascript object>"
            ]
          },
          "metadata": {}
        },
        {
          "output_type": "stream",
          "name": "stdout",
          "text": [
            "Finished recording video at:recording.mkv\n"
          ]
        }
      ]
    }
  ],
  "metadata": {
    "accelerator": "GPU",
    "colab": {
      "collapsed_sections": [],
      "name": "colab-webcam.ipynb",
      "provenance": []
    },
    "kernelspec": {
      "display_name": "Python 3",
      "name": "python3"
    },
    "language_info": {
      "codemirror_mode": {
        "name": "ipython",
        "version": 3
      },
      "file_extension": ".py",
      "mimetype": "text/x-python",
      "name": "python",
      "nbconvert_exporter": "python",
      "pygments_lexer": "ipython3",
      "version": "3.7.11"
    }
  },
  "nbformat": 4,
  "nbformat_minor": 0
}